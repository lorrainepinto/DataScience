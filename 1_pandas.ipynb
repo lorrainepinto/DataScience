{
 "cells": [
  {
   "cell_type": "code",
   "execution_count": 3,
   "metadata": {},
   "outputs": [
    {
     "name": "stdout",
     "output_type": "stream",
     "text": [
      "0.24.2\n"
     ]
    }
   ],
   "source": [
    "import pandas\n",
    "print(pandas.__version__)"
   ]
  },
  {
   "cell_type": "code",
   "execution_count": 4,
   "metadata": {},
   "outputs": [],
   "source": [
    "base_df = pandas.read_csv(r\"C:\\Users\\pinto\\Downloads\\new stuff\\TechCrunchcontinentalUSA.csv\")"
   ]
  },
  {
   "cell_type": "code",
   "execution_count": 4,
   "metadata": {
    "collapsed": true
   },
   "outputs": [
    {
     "name": "stdout",
     "output_type": "stream",
     "text": [
      "               permalink              company  numEmps   category  \\\n",
      "0               lifelock             LifeLock      NaN        web   \n",
      "1               lifelock             LifeLock      NaN        web   \n",
      "2               lifelock             LifeLock      NaN        web   \n",
      "3            mycityfaces          MyCityFaces      7.0        web   \n",
      "4               flypaper             Flypaper      NaN        web   \n",
      "5           infusionsoft         Infusionsoft    105.0   software   \n",
      "6                  gauto                gAuto      4.0        web   \n",
      "7         chosenlist-com       ChosenList.com      5.0        web   \n",
      "8         chosenlist-com       ChosenList.com      5.0        web   \n",
      "9                   digg                 Digg     60.0        web   \n",
      "10                  digg                 Digg     60.0        web   \n",
      "11              facebook             Facebook    450.0        web   \n",
      "12              facebook             Facebook    450.0        web   \n",
      "13              facebook             Facebook    450.0        web   \n",
      "14              facebook             Facebook    450.0        web   \n",
      "15              facebook             Facebook    450.0        web   \n",
      "16              facebook             Facebook    450.0        web   \n",
      "17              facebook             Facebook    450.0        web   \n",
      "18           photobucket          Photobucket     60.0        web   \n",
      "19           photobucket          Photobucket     60.0        web   \n",
      "20             omnidrive            Omnidrive      NaN        web   \n",
      "21                  geni                 Geni     18.0        web   \n",
      "22                  geni                 Geni     18.0        web   \n",
      "23               twitter              Twitter     17.0        web   \n",
      "24               twitter              Twitter     17.0        web   \n",
      "25           stumbleupon          StumbleUpon      NaN        web   \n",
      "26                gizmoz               Gizmoz      NaN        web   \n",
      "27                gizmoz               Gizmoz      NaN        web   \n",
      "28                scribd               Scribd     14.0        web   \n",
      "29                scribd               Scribd     14.0        web   \n",
      "...                  ...                  ...      ...        ...   \n",
      "1430            fyreball             Fyreball      NaN        web   \n",
      "1431      delve-networks       Delve Networks      NaN        web   \n",
      "1432      delve-networks       Delve Networks      NaN        web   \n",
      "1433           livemocha            LiveMocha      NaN        web   \n",
      "1434  mercentcorporation  Mercent Corporation     50.0        web   \n",
      "1435           cleverset            CleverSet      NaN        web   \n",
      "1436           cleverset            CleverSet      NaN        web   \n",
      "1437           cleverset            CleverSet      NaN        web   \n",
      "1438       liquidplanner        LiquidPlanner     11.0        web   \n",
      "1439             limeade              Limeade     10.0        web   \n",
      "1440               yodio                Yodio      4.0        web   \n",
      "1441         tastemakers          Tastemakers     11.0        web   \n",
      "1442      whitepages-com       WhitePages.com    125.0        web   \n",
      "1443      revenuescience       RevenueScience      NaN        web   \n",
      "1444            gotvoice             GotVoice     15.0     mobile   \n",
      "1445   cardomain-network    CarDomain Network     50.0        web   \n",
      "1446               mpire                mpire      NaN        web   \n",
      "1447               mpire                mpire      NaN        web   \n",
      "1448         teachstreet          TeachStreet      8.0        web   \n",
      "1449            estately             Estately      NaN        web   \n",
      "1450             infinia              Infinia      NaN  cleantech   \n",
      "1451             infinia              Infinia      NaN  cleantech   \n",
      "1452           m-metrics            M:Metrics      NaN        web   \n",
      "1453                cozi                 Cozi     26.0   software   \n",
      "1454                cozi                 Cozi     26.0   software   \n",
      "1455             trusera              Trusera     15.0        web   \n",
      "1456          alerts-com           Alerts.com      NaN        web   \n",
      "1457               myrio                Myrio     75.0   software   \n",
      "1458       grid-networks        Grid Networks      NaN        web   \n",
      "1459       grid-networks        Grid Networks      NaN        web   \n",
      "\n",
      "                city state fundedDate  raisedAmt raisedCurrency         round  \n",
      "0              Tempe    AZ   1-May-07    6850000            USD             b  \n",
      "1              Tempe    AZ   1-Oct-06    6000000            USD             a  \n",
      "2              Tempe    AZ   1-Jan-08   25000000            USD             c  \n",
      "3         Scottsdale    AZ   1-Jan-08      50000            USD          seed  \n",
      "4            Phoenix    AZ   1-Feb-08    3000000            USD             a  \n",
      "5            Gilbert    AZ   1-Oct-07    9000000            USD             a  \n",
      "6         Scottsdale    AZ   1-Jan-08     250000            USD          seed  \n",
      "7         Scottsdale    AZ   1-Oct-06     140000            USD          seed  \n",
      "8         Scottsdale    AZ  25-Jan-08     233750            USD         angel  \n",
      "9      San Francisco    CA   1-Dec-06    8500000            USD             b  \n",
      "10     San Francisco    CA   1-Oct-05    2800000            USD             a  \n",
      "11         Palo Alto    CA   1-Sep-04     500000            USD         angel  \n",
      "12         Palo Alto    CA   1-May-05   12700000            USD             a  \n",
      "13         Palo Alto    CA   1-Apr-06   27500000            USD             b  \n",
      "14         Palo Alto    CA   1-Oct-07  300000000            USD             c  \n",
      "15         Palo Alto    CA   1-Mar-08   40000000            USD             c  \n",
      "16         Palo Alto    CA  15-Jan-08   15000000            USD             c  \n",
      "17         Palo Alto    CA   1-May-08  100000000            USD    debt_round  \n",
      "18         Palo Alto    CA   1-May-06   10500000            USD             b  \n",
      "19         Palo Alto    CA   1-Mar-05    3000000            USD             a  \n",
      "20         Palo Alto    CA   1-Dec-06     800000            USD         angel  \n",
      "21    West Hollywood    CA   1-Jan-07    1500000            USD             a  \n",
      "22    West Hollywood    CA   1-Mar-07   10000000            USD             b  \n",
      "23     San Francisco    CA   1-Jul-07    5400000            USD             b  \n",
      "24     San Francisco    CA   1-May-08   15000000            USD             c  \n",
      "25     San Francisco    CA   1-Dec-05    1500000            USD          seed  \n",
      "26        Menlo Park    CA   1-May-07    6300000            USD             a  \n",
      "27        Menlo Park    CA  16-Mar-08    6500000            USD             b  \n",
      "28     San Francisco    CA   1-Jun-06      12000            USD          seed  \n",
      "29     San Francisco    CA   1-Jan-07      40000            USD         angel  \n",
      "...              ...   ...        ...        ...            ...           ...  \n",
      "1430        Bellevue    WA   1-Dec-07    1000000            USD         angel  \n",
      "1431         Seattle    WA   1-Dec-06    1650000            USD          seed  \n",
      "1432         Seattle    WA   1-Aug-07    8000000            USD             a  \n",
      "1433        Bellevue    WA   1-Jan-08    6000000            USD             a  \n",
      "1434         Seattle    WA   1-Jan-08    6500000            USD             b  \n",
      "1435         Seattle    WA   1-Aug-06    1400000            USD         angel  \n",
      "1436         Seattle    WA   1-Sep-05    1200000            USD             a  \n",
      "1437         Seattle    WA   1-Dec-07     500000            USD         angel  \n",
      "1438        Bellevue    WA   1-Jan-08    1200000            USD         angel  \n",
      "1439        Bellevue    WA   1-Jan-07    1000000            USD         angel  \n",
      "1440        Bellevue    WA   1-Feb-08     850000            USD             a  \n",
      "1441         Seattle    WA   1-Feb-07    1000000            USD             a  \n",
      "1442         Seattle    WA   1-Aug-05   45000000            USD             a  \n",
      "1443         Seattle    WA  19-Dec-05   24000000            USD             e  \n",
      "1444        Kirkland    WA  25-Oct-06    3000000            USD             a  \n",
      "1445         Seattle    WA  29-Jun-07    3000000            USD             a  \n",
      "1446         Seattle    WA   1-Feb-07    9800000            USD             a  \n",
      "1447         Seattle    WA  11-Jun-08   10000000            USD             b  \n",
      "1448         Seattle    WA   1-Mar-08    2250000            USD             a  \n",
      "1449             NaN    WA  24-Apr-08     450000            USD         angel  \n",
      "1450       Kennewick    WA  22-Apr-08   57000000            USD             b  \n",
      "1451       Kennewick    WA   1-Jun-07    9500000            USD             a  \n",
      "1452         Seattle    WA  16-Oct-05    7000000            USD             b  \n",
      "1453         Seattle    WA  11-Jul-07    3000000            USD             a  \n",
      "1454         Seattle    WA   1-Jun-08    8000000            USD             c  \n",
      "1455         Seattle    WA   1-Jun-07    2000000            USD         angel  \n",
      "1456        Bellevue    WA   8-Jul-08    1200000            USD             a  \n",
      "1457         Bothell    WA   1-Jan-01   20500000            USD  unattributed  \n",
      "1458         Seattle    WA  30-Oct-07    9500000            USD             a  \n",
      "1459         Seattle    WA  20-May-08   10500000            USD             b  \n",
      "\n",
      "[1460 rows x 10 columns]\n"
     ]
    }
   ],
   "source": [
    "print(base_df)"
   ]
  },
  {
   "cell_type": "code",
   "execution_count": 5,
   "metadata": {
    "collapsed": true
   },
   "outputs": [
    {
     "name": "stdout",
     "output_type": "stream",
     "text": [
      "        permalink         company  numEmps  category           city state  \\\n",
      "0        lifelock        LifeLock      NaN       web          Tempe    AZ   \n",
      "1        lifelock        LifeLock      NaN       web          Tempe    AZ   \n",
      "2        lifelock        LifeLock      NaN       web          Tempe    AZ   \n",
      "3     mycityfaces     MyCityFaces      7.0       web     Scottsdale    AZ   \n",
      "4        flypaper        Flypaper      NaN       web        Phoenix    AZ   \n",
      "5    infusionsoft    Infusionsoft    105.0  software        Gilbert    AZ   \n",
      "6           gauto           gAuto      4.0       web     Scottsdale    AZ   \n",
      "7  chosenlist-com  ChosenList.com      5.0       web     Scottsdale    AZ   \n",
      "8  chosenlist-com  ChosenList.com      5.0       web     Scottsdale    AZ   \n",
      "9            digg            Digg     60.0       web  San Francisco    CA   \n",
      "\n",
      "  fundedDate  raisedAmt raisedCurrency  round  \n",
      "0   1-May-07    6850000            USD      b  \n",
      "1   1-Oct-06    6000000            USD      a  \n",
      "2   1-Jan-08   25000000            USD      c  \n",
      "3   1-Jan-08      50000            USD   seed  \n",
      "4   1-Feb-08    3000000            USD      a  \n",
      "5   1-Oct-07    9000000            USD      a  \n",
      "6   1-Jan-08     250000            USD   seed  \n",
      "7   1-Oct-06     140000            USD   seed  \n",
      "8  25-Jan-08     233750            USD  angel  \n",
      "9   1-Dec-06    8500000            USD      b  \n"
     ]
    }
   ],
   "source": [
    "print(base_df.head(10))"
   ]
  },
  {
   "cell_type": "code",
   "execution_count": 6,
   "metadata": {
    "collapsed": true
   },
   "outputs": [
    {
     "name": "stdout",
     "output_type": "stream",
     "text": [
      "          permalink        company  numEmps   category       city state  \\\n",
      "1450        infinia        Infinia      NaN  cleantech  Kennewick    WA   \n",
      "1451        infinia        Infinia      NaN  cleantech  Kennewick    WA   \n",
      "1452      m-metrics      M:Metrics      NaN        web    Seattle    WA   \n",
      "1453           cozi           Cozi     26.0   software    Seattle    WA   \n",
      "1454           cozi           Cozi     26.0   software    Seattle    WA   \n",
      "1455        trusera        Trusera     15.0        web    Seattle    WA   \n",
      "1456     alerts-com     Alerts.com      NaN        web   Bellevue    WA   \n",
      "1457          myrio          Myrio     75.0   software    Bothell    WA   \n",
      "1458  grid-networks  Grid Networks      NaN        web    Seattle    WA   \n",
      "1459  grid-networks  Grid Networks      NaN        web    Seattle    WA   \n",
      "\n",
      "     fundedDate  raisedAmt raisedCurrency         round  \n",
      "1450  22-Apr-08   57000000            USD             b  \n",
      "1451   1-Jun-07    9500000            USD             a  \n",
      "1452  16-Oct-05    7000000            USD             b  \n",
      "1453  11-Jul-07    3000000            USD             a  \n",
      "1454   1-Jun-08    8000000            USD             c  \n",
      "1455   1-Jun-07    2000000            USD         angel  \n",
      "1456   8-Jul-08    1200000            USD             a  \n",
      "1457   1-Jan-01   20500000            USD  unattributed  \n",
      "1458  30-Oct-07    9500000            USD             a  \n",
      "1459  20-May-08   10500000            USD             b  \n"
     ]
    }
   ],
   "source": [
    "print(base_df.tail(10))"
   ]
  },
  {
   "cell_type": "code",
   "execution_count": 7,
   "metadata": {
    "collapsed": true
   },
   "outputs": [
    {
     "name": "stdout",
     "output_type": "stream",
     "text": [
      "                    permalink                  company  numEmps category  \\\n",
      "19                photobucket              Photobucket     60.0      web   \n",
      "1387                  wishpot                  Wishpot      NaN      web   \n",
      "748                   centerd                 Center'd      NaN      web   \n",
      "921                     kayak                    Kayak     58.0      web   \n",
      "1059                   endeca                   Endeca    500.0      web   \n",
      "287                synthasite               Synthasite     26.0      web   \n",
      "1008               brightcove               Brightcove      NaN      web   \n",
      "1080  sirtris-pharmaceuticals  Sirtris Pharmaceuticals      NaN  biotech   \n",
      "1208                livegamer               Live Gamer      NaN      web   \n",
      "314          digitalchocolate        Digital Chocolate      NaN      web   \n",
      "\n",
      "               city state fundedDate  raisedAmt raisedCurrency  round  \n",
      "19        Palo Alto    CA   1-Mar-05    3000000            USD      a  \n",
      "1387        Seattle    WA  29-Apr-08    1000000            USD      a  \n",
      "748      Menlo Park    CA   1-Feb-07    1000000            USD  angel  \n",
      "921         Norwalk    CT   1-May-06   11500000            USD      c  \n",
      "1059      Cambridge    MA   1-Jan-08   15000000            USD      d  \n",
      "287   San Francisco    CA   1-Nov-07    5000000            USD      a  \n",
      "1008      Cambridge    MA   1-Sep-06    5000000            USD      b  \n",
      "1080      Cambridge    MA   1-Dec-04   13000000            USD      a  \n",
      "1208       New York    NY   1-Dec-07   24000000            USD      a  \n",
      "314       San Mateo    CA   1-Dec-03    8400000            USD      a  \n"
     ]
    }
   ],
   "source": [
    "print(base_df.sample(10))"
   ]
  },
  {
   "cell_type": "code",
   "execution_count": 9,
   "metadata": {
    "collapsed": true
   },
   "outputs": [
    {
     "name": "stdout",
     "output_type": "stream",
     "text": [
      "Index(['permalink', 'company', 'numEmps', 'category', 'city', 'state',\n",
      "       'fundedDate', 'raisedAmt', 'raisedCurrency', 'round'],\n",
      "      dtype='object')\n"
     ]
    }
   ],
   "source": [
    "print(base_df.columns)"
   ]
  },
  {
   "cell_type": "code",
   "execution_count": 10,
   "metadata": {
    "collapsed": true
   },
   "outputs": [
    {
     "name": "stdout",
     "output_type": "stream",
     "text": [
      "['LifeLock' 'MyCityFaces' 'Flypaper' 'Infusionsoft' 'gAuto'\n",
      " 'ChosenList.com' 'Digg' 'Facebook' 'Photobucket' 'Omnidrive' 'Geni'\n",
      " 'Twitter' 'StumbleUpon' 'Gizmoz' 'Scribd' 'Slacker' 'Lala' 'Plaxo'\n",
      " 'Powerset' 'Technorati' 'Mahalo' 'Kyte' 'Veoh' 'Jingle Networks' 'Ning'\n",
      " 'JotSpot' 'Mercora' 'Wesabe' 'Jangl' 'Hyphen 8' 'Prosper' 'Google'\n",
      " 'Jajah' 'YouTube' 'Ustream' 'GizmoProject' 'Adap.tv' 'Topix' 'Revision3'\n",
      " 'Aggregate Knowledge' 'Sugar Inc' 'Zing' 'CriticalMetrics' 'Spock' 'Wize'\n",
      " 'SodaHead' 'CastTV' 'BuzzNet' 'Funny Or Die' 'Sphere' 'MeeVee' 'Mashery'\n",
      " 'Yelp' 'Spotplex' 'Coghead' 'Zooomr' 'SideStep' 'RockYou' 'Pageflakes'\n",
      " 'Swivel' 'Slide' 'Bebo' 'freebase' 'Metaweb Technologies' 'Glam Media'\n",
      " 'TheFind' 'Zazzle' 'Dogster' 'Pandora' 'Cafepress' 'pbwiki' 'AdBrite'\n",
      " 'Loomia' 'Meebo' 'Eventbrite' 'LinkedIn' 'FlickIM' 'Terabitz'\n",
      " 'Healthline' 'Box.net' 'Conduit' 'Edgeio' 'Spot Runner' 'Kaboodle'\n",
      " 'Giga Omni Media' 'Visible Path' 'Wink' 'seesmic' 'Zvents' 'Eventful'\n",
      " 'Oodle' 'oDesk' 'SimplyHired' 'ooma' 'GoingOn' 'Flixster' 'Piczo'\n",
      " 'Socialtext' 'PowerReview' 'hi5' 'Tagged' 'Jaxtr' 'Me' 'introNetworks'\n",
      " 'Leverage Software' 'Lithium Technologies' 'Genius' 'Respectance' 'Curse'\n",
      " 'LicketyShip' 'Grockit' 'PeerMe' 'Kiptronic' 'Vuze' 'Phonezoo'\n",
      " 'Droplet Technology' 'PodTech' 'Crackle' 'Reddit' 'Wikia' 'Retrevo'\n",
      " 'Buxfer' 'YouSendIt' 'Tangler' 'obopay' 'PayPal' 'TalkPlus' 'Vudu'\n",
      " 'Insider Pages' 'Snapfish' 'Affinity Circles' 'IMVU' 'Nirvanix'\n",
      " 'Habit Industries' 'Gaia' 'GreatCall' 'Revver' 'Metacafe' 'Flock'\n",
      " 'VMIX Media' 'Kontera' 'Tokbox' 'Six Apart' 'Weebly' 'Synthasite'\n",
      " 'BitTorrent' 'Kongregate' 'DanceJam' 'Fathom Online' 'Zivity'\n",
      " 'BlueLithium' 'eXpresso' 'Doostang' 'Docstoc' 'Mevio'\n",
      " 'PureVideo Networks' 'FilmLoop' 'BitPass' 'Art.com' 'Atom Shockwave'\n",
      " 'CinemaNow' 'Digital Chocolate' 'eHarmony' 'Friendster' 'Greystripe'\n",
      " 'Sling Media' 'Trulia' 'Lending Club' 'tubemogul' 'Gemini' 'Multiverse'\n",
      " 'LimeLife' 'OpenTable' 'RooftopComedy' 'Federated Media' 'Delivery Agent'\n",
      " 'Reunion' 'Mixercast' 'mTraks' 'Xora' 'Ooyala' 'SayNow' 'Crunchyroll'\n",
      " 'CircleUp' 'PixSense' 'Danal' 'hulu' 'OurStory' 'Specificmedia' 'AdMob'\n",
      " 'MySQL' 'Attributor' 'Social Media' 'Demand Media' 'TripIt' 'PubMatic'\n",
      " 'Mint' 'app2you' 'YourStreet' 'Tagworld' 'RotoHog' 'ThisNext' 'ChessPark'\n",
      " 'Break' 'MuseStorm' 'Media Machines' 'Ciihui' 'Aliph' 'mEgo' 'Realius'\n",
      " 'Xobni' 'Spoke' 'FixYa' 'Mozilla' 'BrightQube' 'BuzzDash' 'Urban Mapping'\n",
      " 'Consorte Media' 'ffwd' 'Get Satisfaction' 'RingCentral' '3Jam'\n",
      " 'PlaySpan' 'Grouply' 'Graspr' 'Zannel' 'deca.tv' 'Zimbra' 'FriendFeed'\n",
      " 'Rupture' 'JibJab' 'Rubicon Project' 'SnapLayout' 'Confabb' 'UpTake'\n",
      " '23andMe' 'YuMe' 'Mochi Media' 'Blurb' 'WeatherBill' 'Automattic'\n",
      " 'Radar Networks' 'Veodia' 'EchoSign' 'Rollbase' 'Predictify' 'TrialPay'\n",
      " 'Socializr' 'Eurekster' 'Gydget' 'PicksPal' 'Gigya' 'Songbird'\n",
      " 'Guardian Analytics' 'Fora.TV' 'Disqus' 'SezWho' 'YieldBuild' 'Akimbo'\n",
      " 'Laszlo Systems' 'BrightRoll' 'MerchantCircle' 'Minekey' 'Booking Angel'\n",
      " 'Loopt' 'Fix8' 'MyBuys' 'BlackArrow' 'Peerflix' 'fatdoor' 'Verimatrix'\n",
      " 'Billeo' 'Caring.com' 'Ask.com' 'Project Playlist' 'Blowtorch'\n",
      " 'GameLayers' 'MoGreet' 'YourTrumanShow' 'Apprema' 'TrustedID' 'Seeqpod'\n",
      " 'Quantenna' 'Qwaq' 'uber' 'CashView' 'CrossLoop' 'Dapper'\n",
      " 'Anchor Intelligence' 'EdgeCast' 'Kosmix' 'GoodReads' 'Ribbit' 'Jobvite'\n",
      " 'Juice Wireless' 'Qik' 'PlayFirst' 'Mobissimo' 'Chumby' 'UGOBE' 'Ausra'\n",
      " 'Causes' 'Nanosolar' 'Shozu' 'Tesla Motors' 'Bunchball' 'Pinger' 'Hooja'\n",
      " 'TravelMuse' 'Cooking.com' 'Meraki' 'SugarCRM' 'Pudding Media'\n",
      " '4HomeMedia' 'Pageonce' 'bluepulse' 'Mogad' 'DeviceVM' 'Outspark'\n",
      " 'Engine Yard' 'PLYmedia' 'fabrik' 'Widgetbox' 'RazorGator' 'OverSee'\n",
      " 'Zynga' 'Smaato' 'Credit Karma' 'Greenplum' 'Amobee' 'WebMynd'\n",
      " 'Current Media' 'Heroku' 'Lookery' 'Mill River Labs' 'Grouptivity'\n",
      " 'Aductions' 'VentureBeat' 'Collarity' 'RocketOn' 'What They Like'\n",
      " 'GumGum' 'Snap Technologies' 'TwoFish' 'Three Rings' 'Smalltown'\n",
      " 'Sparkplay Media' 'MOG' 'Social Gaming Network' 'Danger' 'Coverity'\n",
      " 'GenieTown' 'Redux' 'Evernote' 'Numobiq' 'GoldSpot Media' 'Mobixell'\n",
      " 'Ad Infuse' 'SendMe' 'Tiny Pictures' 'flurry' 'Sharpcast' 'Teneros'\n",
      " 'PhotoCrank' 'Yodlee' 'SlideRocket' 'Surf Canyon' 'Central Desktop'\n",
      " 'OpenDNS' 'Coveo' 'Vizu' 'Taltopia' 'Kapow Technologies'\n",
      " 'ProgrammerMeetDesigner.com' 'LiveOps' 'Clickpass' 'SearchMe'\n",
      " 'AccountNow' 'DailyStrength' 'PopularMedia' 'Clarizen' 'SellPoint'\n",
      " 'LiveDeal' 'NeoEdge Networks' 'Zuora' 'Jivox' 'Elastra' 'kwiry'\n",
      " 'SupplyFrame' 'InMage Systems' 'Authenticlick' 'Interneer' 'Handipoints'\n",
      " 'Adconion Media Group' 'Zend Technologies' 'SlideShare' 'Intent'\n",
      " 'Wikimedia Foundation' 'Clearwell Systems' 'Become' 'Bubble Motion'\n",
      " 'Perfect Market' 'Glassdoor' 'Support Space' 'Xoopit' 'Reality Digital'\n",
      " 'Cloud9 Analytics' 'Netcipia' 'iControl' 'Frengo' 'mBlox' 'eSolar'\n",
      " 'Marin Software' 'SiBEAM' 'Lumos Labs' 'iRise' 'richrelevance'\n",
      " 'Labmeeting' 'Shopflick' 'TurnHere' 'Coupa' 'SquareTrade' 'V-Enable'\n",
      " 'Aeria' 'Heysan' 'Memeo' 'imageshack' 'PluggedIn' 'CellSpin' 'Remixation'\n",
      " 'The Auteurs' 'Modern Feed' 'GROU.PS' 'Triggit' 'Serious Business'\n",
      " 'Presdo' 'Nile Guide' 'Adify' 'Invensense' \"Center'd\" 'New Relic'\n",
      " 'Gridstone Research' 'FusionOps' 'MarketLive' 'SnapLogic' 'Boardwalktech'\n",
      " 'Rosum' 'CitizenHawk' 'Dilithium Networks' 'Passenger'\n",
      " 'Experience Project' 'Mozes' 'rVita' 'Mefeedia' 'Wavemaker Software'\n",
      " 'VirtualLogix' 'Fonemesh' 'Cognition Technologies' 'Sometrics'\n",
      " 'SocialVibe' 'deviantART' 'MyThings' 'mywaves' 'litescape' 'nextbio'\n",
      " 'Parascale' 'Row44' 'JellyCloud' 'Aster Data Systems' 'Pixim' 'Funambol'\n",
      " 'Moblyng' 'Zecter' 'Votigo' 'Zinio' 'Dreamfactory' 'GreenNote' 'Skyfire'\n",
      " 'eduFire' 'B-hive Networks' 'VMware' 'Katalyst Media' 'NeuroVigil'\n",
      " 'Sylantro' 'TeleFlip' 'Vidshadow' 'Jigsaw' 'Ozmo Devices' 'Cooliris'\n",
      " 'Gamook' 'Vindicia' 'Dizzywood' 'Limbo' 'StartForce' 'coolearth'\n",
      " 'Yield Software' 'Tapulous' 'Codefast' 'Hyperic' 'iPling :))' 'Intacct'\n",
      " 'Vivaty' 'Aurora Biofuels' 'eEye' 'AllBusiness.com' 'InsideView'\n",
      " 'Clickability' 'Keibi Technologies' 'RoboDynamics' 'ImageSpan'\n",
      " 'Solarflare' 'Clupedia' 'Zigabid' 'InThrMa' 'Webaroo'\n",
      " 'Fluid Entertainment' 'Unisfair' 'ON24' 'trueAnthem' 'Colizer'\n",
      " 'Coremetrics' 'Minted' 'Appirio' 'samfind' 'Eye-Fi' 'ResponseLogix'\n",
      " 'Qumu' 'CarbonFlow' 'Allvoices' 'Moxsie' 'Service-now.com' 'Anvato'\n",
      " 'Vantage Media' 'Entone Technologies' '750 Industries' 'Plastic Logic'\n",
      " 'Paymo' 'Brilliant Telecom' 'SkyGrid' 'Intense Debate'\n",
      " 'Associated Content' 'madKast' 'EventVue' 'Socialthing!'\n",
      " 'J Squared Media' 'Search to Phone' 'Filtrbox' 'Brightkite' 'NewsGator'\n",
      " 'Me.dium' 'Buzzwire' 'HiveLive' 'XAware' 'Lijit' 'hubbuzz' 'Gnip'\n",
      " 'Collective Intellect' 'Rally Software' 'Symplified' 'Indeed' 'Geezeo'\n",
      " 'Entrecard' 'AmericanTowns.com' 'Kayak' 'GoCrossCampus' 'Health Plan One'\n",
      " 'Your Survival' 'Media Lantern' 'GridPoint' 'HotPads' 'LaunchBox'\n",
      " 'Cogent' 'SwapDrive' 'Searchles' 'PayPerPost' 'Affinity Internet'\n",
      " 'Multiply' 'Revolution Money' 'Batanga' 'divorce360' 'Infinity Box'\n",
      " 'MOLI' 'Global Roaming' 'Slingpage' 'WrapMail' 'eJamming'\n",
      " 'Lehigh Technologies' 'TournEase' 'Vitrue' 'Screaming Sports'\n",
      " 'beRecruited' 'MFG' 'Scintella Solutions' 'ScribeStorm' 'Balihoo' 'Info'\n",
      " 'FeedBurner' 'Viewpoints' 'GrubHub' 'TicketsNow' 'The Point' 'Inkling'\n",
      " 'crowdSPRING' 'Ifbyphone' 'Fave Media' 'Accertify' 'Firefly Energy'\n",
      " 'SAVO' 'ChaCha' 'Better World Books' 'Compendium Blogware' 'Instagarage'\n",
      " 'iSkoot' 'Gotuit Media' 'Carbonite' 'ScanScout' 'Going' 'Brightcove'\n",
      " 'PermissionTV' 'Bountii' 'Conduit Labs' 'ZoomInfo' 'Vlingo' 'Vtap'\n",
      " 'MocoSpace' 'Quattro Wireless' 'Care.com' 'OnForce' 'RatePoint' 'UpDown'\n",
      " 'Eons' 'GamerDNA' 'Mix & Meet' 'Sermo' 'WorkLight' 'MatchMine'\n",
      " 'CondoDomain' 'uTest' 'Compete' 'Azuki Systems' 'Acinion' 'xkoto'\n",
      " 'HubSpot' 'Utterz' 'Intronis' 'Acquia' 'A123Systems' 'Boston Power'\n",
      " 'Visible Measures' 'Endeca' 'ChoiceStream' 'YouCastr' 'JackPot Rewards'\n",
      " 'Mzinga' 'Dimdim' 'utoopia' 'Retail Convergence' 'Frame Media' 'Turbine'\n",
      " 'Zeer' 'SimpleTuition' 'Sirtris Pharmaceuticals' 'Good Data'\n",
      " 'Navic Networks' 'Pivot' 'Optaros' 'Astaro' 'Pangea Media' 'Posterous'\n",
      " 'Spire' 'neoSaej' 'GenArts' 'OrderMotion' 'HAM-IT' 'Freewebs' 'MPTrax'\n",
      " 'JackBe' 'ZeniMax' 'Intelliworks' 'HEXIO' 'Foneshow' 'Zattoo' 'LoudClick'\n",
      " 'Agilis Systems' 'International Liars Poker Association' 'ChannelAdvisor'\n",
      " 'Yap' 'PrepChamps' 'SilkRoad technology' 'BrightDoor Systems' 'DriftToIt'\n",
      " 'rPath' 'Ntractive' 'Bill Me Later' 'AdaptiveBlue' 'Phanfare'\n",
      " 'EnterpriseDB' 'Neocleus' 'Datapipe' 'Switch2Health' 'Voltaix' 'SpaBoom'\n",
      " 'Novint' 'MeetMoi' 'Meetup' 'Mogulus' 'Pando' 'Outside.in' 'SelectMinds'\n",
      " 'Veotag' 'KIT digital' 'ContextWeb' 'Datran Media' 'Eyeblaster'\n",
      " 'Covestor' 'Global Grind' 'Heavy.com' 'SpiralFrog'\n",
      " 'Broadband Enterprises' 'Thumbplay' 'Waterfront Media' 'Tutor' 'Daylife'\n",
      " 'Teach The People' 'OrganizedWisdom' 'Snooth' '5min' 'Kaltura' 'Mimeo'\n",
      " 'RayV' 'Tumblr' 'Payoneer' 'eXelate' 'Quigo' 'Peer39' 'Rebel Monkey'\n",
      " 'Answers Corporation' 'SeeToo' 'drop.io' 'Motionbox' 'DGP Labs' 'Ideeli'\n",
      " 'Live Gamer' 'WeShow' 'Etsy' 'PhoneTag' 'Tremor Media' 'YooNew'\n",
      " 'Fifth Generation Systems' 'IGA Worldwide' 'TheLadders' 'Adotube'\n",
      " 'Kluster' 'Blog Talk Radio' 'Pingg' 'Outbrain' 'Mochila' 'OLX' 'Boonty'\n",
      " 'Tripology' 'The Feedroom' 'Next New Networks' 'RiverWired' 'Fynanz'\n",
      " 'Digital Railroad' 'Silicon Alley Insider' 'Undertone Networks'\n",
      " 'Someecards' 'Trunkt' 'Cutcaster' 'Visible World' 'Mad Mimi'\n",
      " 'Social Median' 'Scanbuy' 'Pontiflex' 'CHIC.TV' 'ExpertFlyer' 'x+1'\n",
      " 'Media6¡' 'Knewton' 'Sense Networks' 'TargetSpot' 'BountyJobs' 'vbs tv'\n",
      " 'Instinctiv' 'VISUALPLANT' 'XunLight' 'Strands' 'Jive Software' 'Platial'\n",
      " 'GarageGames' 'iovation' 'InGrid' 'Sleep.FM' 'Boomi' 'Styky'\n",
      " 'TotalTakeout' 'RedLasso' 'QponDirect' 'EnergyWeb Solutions'\n",
      " 'Aria Systems' 'Viv’simo' 'ShowClix' 'BioWizard' 'TicketLeap' 'Tizra'\n",
      " 'Quickoffice' 'Thoof' 'Bazaarvoice' 'Small World Labs' 'Pluck'\n",
      " 'Spiceworks' 'SpendView' 'Shangby' 'On Networks' 'CareFlash' 'HelioVolt'\n",
      " 'Challenge Games' 'Woot' 'Mumboe' 'BreakingPoint Systems' 'FameCast'\n",
      " 'Click Forensics' 'GodTube' 'iBiz Software' 'Cosential'\n",
      " 'JAD Tech Consulting' 'Mozy' 'Ancestry.com' 'Move Networks'\n",
      " 'World Vital Records' 'Bungee Labs' 'Footnote' 'mediaFORGE' 'TeamStreamz'\n",
      " 'Exinda' 'Clearspring' 'Avail Media' 'FortiusOne' 'Mixx' 'Jobfox'\n",
      " 'HealthCentral' 'comScore' 'VisualCV' 'Paxfire' 'ShoutWire' 'Parature'\n",
      " 'Loladex' 'Appian' 'Fortisphere' 'Wetpaint' 'Jobster' 'Yapta' 'Farecast'\n",
      " 'Haute Secure' 'Newsvine' 'iLike' 'Redfin' 'Action Engine' 'Wishpot'\n",
      " 'PayScale' 'BuddyTV' 'Judys Book' 'Sampa' 'Zango' 'Cdigix' 'Ripl'\n",
      " 'EyeJot' 'FlowPlay' 'SmartSheet' 'Visible Technologies' 'Zillow' 'SEOMoz'\n",
      " 'DocuSign' 'AdReady' 'Treemo' 'GridNetworks' 'Pelago' 'Blist' 'RealSelf'\n",
      " 'RescueTime' 'Zoji' 'Snapvine' 'Jott' 'Earth Class Mail' 'Smilebox'\n",
      " 'Fyreball' 'Delve Networks' 'LiveMocha' 'Mercent Corporation' 'CleverSet'\n",
      " 'LiquidPlanner' 'Limeade' 'Yodio' 'Tastemakers' 'WhitePages.com'\n",
      " 'RevenueScience' 'GotVoice' 'CarDomain Network' 'mpire' 'TeachStreet'\n",
      " 'Estately' 'Infinia' 'M:Metrics' 'Cozi' 'Trusera' 'Alerts.com' 'Myrio'\n",
      " 'Grid Networks']\n"
     ]
    }
   ],
   "source": [
    "print(base_df.company.unique())"
   ]
  },
  {
   "cell_type": "code",
   "execution_count": 14,
   "metadata": {
    "collapsed": true
   },
   "outputs": [
    {
     "name": "stdout",
     "output_type": "stream",
     "text": [
      "                  company  numEmps\n",
      "0                LifeLock      NaN\n",
      "1                LifeLock      NaN\n",
      "2                LifeLock      NaN\n",
      "3             MyCityFaces      7.0\n",
      "4                Flypaper      NaN\n",
      "5            Infusionsoft    105.0\n",
      "6                   gAuto      4.0\n",
      "7          ChosenList.com      5.0\n",
      "8          ChosenList.com      5.0\n",
      "9                    Digg     60.0\n",
      "10                   Digg     60.0\n",
      "11               Facebook    450.0\n",
      "12               Facebook    450.0\n",
      "13               Facebook    450.0\n",
      "14               Facebook    450.0\n",
      "15               Facebook    450.0\n",
      "16               Facebook    450.0\n",
      "17               Facebook    450.0\n",
      "18            Photobucket     60.0\n",
      "19            Photobucket     60.0\n",
      "20              Omnidrive      NaN\n",
      "21                   Geni     18.0\n",
      "22                   Geni     18.0\n",
      "23                Twitter     17.0\n",
      "24                Twitter     17.0\n",
      "25            StumbleUpon      NaN\n",
      "26                 Gizmoz      NaN\n",
      "27                 Gizmoz      NaN\n",
      "28                 Scribd     14.0\n",
      "29                 Scribd     14.0\n",
      "...                   ...      ...\n",
      "1430             Fyreball      NaN\n",
      "1431       Delve Networks      NaN\n",
      "1432       Delve Networks      NaN\n",
      "1433            LiveMocha      NaN\n",
      "1434  Mercent Corporation     50.0\n",
      "1435            CleverSet      NaN\n",
      "1436            CleverSet      NaN\n",
      "1437            CleverSet      NaN\n",
      "1438        LiquidPlanner     11.0\n",
      "1439              Limeade     10.0\n",
      "1440                Yodio      4.0\n",
      "1441          Tastemakers     11.0\n",
      "1442       WhitePages.com    125.0\n",
      "1443       RevenueScience      NaN\n",
      "1444             GotVoice     15.0\n",
      "1445    CarDomain Network     50.0\n",
      "1446                mpire      NaN\n",
      "1447                mpire      NaN\n",
      "1448          TeachStreet      8.0\n",
      "1449             Estately      NaN\n",
      "1450              Infinia      NaN\n",
      "1451              Infinia      NaN\n",
      "1452            M:Metrics      NaN\n",
      "1453                 Cozi     26.0\n",
      "1454                 Cozi     26.0\n",
      "1455              Trusera     15.0\n",
      "1456           Alerts.com      NaN\n",
      "1457                Myrio     75.0\n",
      "1458        Grid Networks      NaN\n",
      "1459        Grid Networks      NaN\n",
      "\n",
      "[1460 rows x 2 columns]\n"
     ]
    }
   ],
   "source": [
    "#selecting\n",
    "print(base_df[[\"company\",\"numEmps\"]])"
   ]
  },
  {
   "cell_type": "code",
   "execution_count": 15,
   "metadata": {
    "collapsed": true
   },
   "outputs": [
    {
     "data": {
      "text/plain": [
       "14791971750"
      ]
     },
     "execution_count": 15,
     "metadata": {},
     "output_type": "execute_result"
    }
   ],
   "source": [
    "base_df.raisedAmt.sum()"
   ]
  },
  {
   "cell_type": "code",
   "execution_count": 17,
   "metadata": {
    "collapsed": true
   },
   "outputs": [
    {
     "name": "stdout",
     "output_type": "stream",
     "text": [
      "               permalink              company  numEmps   category  \\\n",
      "0               lifelock             LifeLock      NaN        web   \n",
      "1               lifelock             LifeLock      NaN        web   \n",
      "2               lifelock             LifeLock      NaN        web   \n",
      "4               flypaper             Flypaper      NaN        web   \n",
      "5           infusionsoft         Infusionsoft    105.0   software   \n",
      "6                  gauto                gAuto      4.0        web   \n",
      "7         chosenlist-com       ChosenList.com      5.0        web   \n",
      "8         chosenlist-com       ChosenList.com      5.0        web   \n",
      "9                   digg                 Digg     60.0        web   \n",
      "10                  digg                 Digg     60.0        web   \n",
      "11              facebook             Facebook    450.0        web   \n",
      "12              facebook             Facebook    450.0        web   \n",
      "13              facebook             Facebook    450.0        web   \n",
      "14              facebook             Facebook    450.0        web   \n",
      "15              facebook             Facebook    450.0        web   \n",
      "16              facebook             Facebook    450.0        web   \n",
      "17              facebook             Facebook    450.0        web   \n",
      "18           photobucket          Photobucket     60.0        web   \n",
      "19           photobucket          Photobucket     60.0        web   \n",
      "20             omnidrive            Omnidrive      NaN        web   \n",
      "21                  geni                 Geni     18.0        web   \n",
      "22                  geni                 Geni     18.0        web   \n",
      "23               twitter              Twitter     17.0        web   \n",
      "24               twitter              Twitter     17.0        web   \n",
      "25           stumbleupon          StumbleUpon      NaN        web   \n",
      "26                gizmoz               Gizmoz      NaN        web   \n",
      "27                gizmoz               Gizmoz      NaN        web   \n",
      "30                scribd               Scribd     14.0        web   \n",
      "31               slacker              Slacker      NaN        web   \n",
      "32               slacker              Slacker      NaN        web   \n",
      "...                  ...                  ...      ...        ...   \n",
      "1430            fyreball             Fyreball      NaN        web   \n",
      "1431      delve-networks       Delve Networks      NaN        web   \n",
      "1432      delve-networks       Delve Networks      NaN        web   \n",
      "1433           livemocha            LiveMocha      NaN        web   \n",
      "1434  mercentcorporation  Mercent Corporation     50.0        web   \n",
      "1435           cleverset            CleverSet      NaN        web   \n",
      "1436           cleverset            CleverSet      NaN        web   \n",
      "1437           cleverset            CleverSet      NaN        web   \n",
      "1438       liquidplanner        LiquidPlanner     11.0        web   \n",
      "1439             limeade              Limeade     10.0        web   \n",
      "1440               yodio                Yodio      4.0        web   \n",
      "1441         tastemakers          Tastemakers     11.0        web   \n",
      "1442      whitepages-com       WhitePages.com    125.0        web   \n",
      "1443      revenuescience       RevenueScience      NaN        web   \n",
      "1444            gotvoice             GotVoice     15.0     mobile   \n",
      "1445   cardomain-network    CarDomain Network     50.0        web   \n",
      "1446               mpire                mpire      NaN        web   \n",
      "1447               mpire                mpire      NaN        web   \n",
      "1448         teachstreet          TeachStreet      8.0        web   \n",
      "1449            estately             Estately      NaN        web   \n",
      "1450             infinia              Infinia      NaN  cleantech   \n",
      "1451             infinia              Infinia      NaN  cleantech   \n",
      "1452           m-metrics            M:Metrics      NaN        web   \n",
      "1453                cozi                 Cozi     26.0   software   \n",
      "1454                cozi                 Cozi     26.0   software   \n",
      "1455             trusera              Trusera     15.0        web   \n",
      "1456          alerts-com           Alerts.com      NaN        web   \n",
      "1457               myrio                Myrio     75.0   software   \n",
      "1458       grid-networks        Grid Networks      NaN        web   \n",
      "1459       grid-networks        Grid Networks      NaN        web   \n",
      "\n",
      "                city state fundedDate  raisedAmt raisedCurrency         round  \n",
      "0              Tempe    AZ   1-May-07    6850000            USD             b  \n",
      "1              Tempe    AZ   1-Oct-06    6000000            USD             a  \n",
      "2              Tempe    AZ   1-Jan-08   25000000            USD             c  \n",
      "4            Phoenix    AZ   1-Feb-08    3000000            USD             a  \n",
      "5            Gilbert    AZ   1-Oct-07    9000000            USD             a  \n",
      "6         Scottsdale    AZ   1-Jan-08     250000            USD          seed  \n",
      "7         Scottsdale    AZ   1-Oct-06     140000            USD          seed  \n",
      "8         Scottsdale    AZ  25-Jan-08     233750            USD         angel  \n",
      "9      San Francisco    CA   1-Dec-06    8500000            USD             b  \n",
      "10     San Francisco    CA   1-Oct-05    2800000            USD             a  \n",
      "11         Palo Alto    CA   1-Sep-04     500000            USD         angel  \n",
      "12         Palo Alto    CA   1-May-05   12700000            USD             a  \n",
      "13         Palo Alto    CA   1-Apr-06   27500000            USD             b  \n",
      "14         Palo Alto    CA   1-Oct-07  300000000            USD             c  \n",
      "15         Palo Alto    CA   1-Mar-08   40000000            USD             c  \n",
      "16         Palo Alto    CA  15-Jan-08   15000000            USD             c  \n",
      "17         Palo Alto    CA   1-May-08  100000000            USD    debt_round  \n",
      "18         Palo Alto    CA   1-May-06   10500000            USD             b  \n",
      "19         Palo Alto    CA   1-Mar-05    3000000            USD             a  \n",
      "20         Palo Alto    CA   1-Dec-06     800000            USD         angel  \n",
      "21    West Hollywood    CA   1-Jan-07    1500000            USD             a  \n",
      "22    West Hollywood    CA   1-Mar-07   10000000            USD             b  \n",
      "23     San Francisco    CA   1-Jul-07    5400000            USD             b  \n",
      "24     San Francisco    CA   1-May-08   15000000            USD             c  \n",
      "25     San Francisco    CA   1-Dec-05    1500000            USD          seed  \n",
      "26        Menlo Park    CA   1-May-07    6300000            USD             a  \n",
      "27        Menlo Park    CA  16-Mar-08    6500000            USD             b  \n",
      "30     San Francisco    CA   1-Jun-07    3710000            USD             a  \n",
      "31         San Diego    CA   1-Jun-07   40000000            USD             b  \n",
      "32         San Diego    CA   1-Jun-07   13500000            USD             a  \n",
      "...              ...   ...        ...        ...            ...           ...  \n",
      "1430        Bellevue    WA   1-Dec-07    1000000            USD         angel  \n",
      "1431         Seattle    WA   1-Dec-06    1650000            USD          seed  \n",
      "1432         Seattle    WA   1-Aug-07    8000000            USD             a  \n",
      "1433        Bellevue    WA   1-Jan-08    6000000            USD             a  \n",
      "1434         Seattle    WA   1-Jan-08    6500000            USD             b  \n",
      "1435         Seattle    WA   1-Aug-06    1400000            USD         angel  \n",
      "1436         Seattle    WA   1-Sep-05    1200000            USD             a  \n",
      "1437         Seattle    WA   1-Dec-07     500000            USD         angel  \n",
      "1438        Bellevue    WA   1-Jan-08    1200000            USD         angel  \n",
      "1439        Bellevue    WA   1-Jan-07    1000000            USD         angel  \n",
      "1440        Bellevue    WA   1-Feb-08     850000            USD             a  \n",
      "1441         Seattle    WA   1-Feb-07    1000000            USD             a  \n",
      "1442         Seattle    WA   1-Aug-05   45000000            USD             a  \n",
      "1443         Seattle    WA  19-Dec-05   24000000            USD             e  \n",
      "1444        Kirkland    WA  25-Oct-06    3000000            USD             a  \n",
      "1445         Seattle    WA  29-Jun-07    3000000            USD             a  \n",
      "1446         Seattle    WA   1-Feb-07    9800000            USD             a  \n",
      "1447         Seattle    WA  11-Jun-08   10000000            USD             b  \n",
      "1448         Seattle    WA   1-Mar-08    2250000            USD             a  \n",
      "1449             NaN    WA  24-Apr-08     450000            USD         angel  \n",
      "1450       Kennewick    WA  22-Apr-08   57000000            USD             b  \n",
      "1451       Kennewick    WA   1-Jun-07    9500000            USD             a  \n",
      "1452         Seattle    WA  16-Oct-05    7000000            USD             b  \n",
      "1453         Seattle    WA  11-Jul-07    3000000            USD             a  \n",
      "1454         Seattle    WA   1-Jun-08    8000000            USD             c  \n",
      "1455         Seattle    WA   1-Jun-07    2000000            USD         angel  \n",
      "1456        Bellevue    WA   8-Jul-08    1200000            USD             a  \n",
      "1457         Bothell    WA   1-Jan-01   20500000            USD  unattributed  \n",
      "1458         Seattle    WA  30-Oct-07    9500000            USD             a  \n",
      "1459         Seattle    WA  20-May-08   10500000            USD             b  \n",
      "\n",
      "[1424 rows x 10 columns]\n"
     ]
    }
   ],
   "source": [
    "#filtering\n",
    "super_rich_companies = base_df[base_df.raisedAmt >=70000]\n",
    "print(super_rich_companies)"
   ]
  },
  {
   "cell_type": "code",
   "execution_count": 5,
   "metadata": {
    "collapsed": true
   },
   "outputs": [
    {
     "name": "stdout",
     "output_type": "stream",
     "text": [
      "['Action Engine' 'Zango' 'SmartSheet' 'Fyreball' 'LiveMocha'\n",
      " 'LiquidPlanner' 'Limeade' 'Yodio' 'Alerts.com']\n"
     ]
    }
   ],
   "source": [
    "#Q: print names of companies in Bellavue WA(washington)\n",
    "bellevue_WA = base_df[(base_df.city=='Bellevue') & (base_df.state=='WA')]\n",
    "print(bellevue_WA.company.unique())"
   ]
  },
  {
   "cell_type": "code",
   "execution_count": 12,
   "metadata": {
    "collapsed": true
   },
   "outputs": [
    {
     "name": "stdout",
     "output_type": "stream",
     "text": [
      "['Action Engine' 'Zango']\n"
     ]
    }
   ],
   "source": [
    "#Q: those in bellevue_WA involved in web development and having amount >15500000\n",
    "rich_web = bellevue_WA[(bellevue_WA.category=='web') & (bellevue_WA.raisedAmt>=15500000)]\n",
    "print(rich_web.company.unique())"
   ]
  },
  {
   "cell_type": "code",
   "execution_count": 14,
   "metadata": {
    "collapsed": true
   },
   "outputs": [
    {
     "name": "stdout",
     "output_type": "stream",
     "text": [
      "Total amount raised in California is: 9361385000\n"
     ]
    }
   ],
   "source": [
    "#Q: total amount raised in california(CA)\n",
    "CA_companies = base_df[base_df.state=='CA']\n",
    "print(\"Total amount raised in California is:\", CA_companies.raisedAmt.sum())"
   ]
  },
  {
   "cell_type": "code",
   "execution_count": 35,
   "metadata": {
    "collapsed": true
   },
   "outputs": [
    {
     "name": "stdout",
     "output_type": "stream",
     "text": [
      "     company  raisedAmt\n",
      "14  Facebook  300000000\n",
      "          raisedAmt\n",
      "company            \n",
      "Facebook  495700000\n"
     ]
    }
   ],
   "source": [
    "#Q: company max recieved in single shot and max recieved overall in CA\n",
    "single_shot = CA_companies[['company','raisedAmt']][CA_companies.raisedAmt==CA_companies.raisedAmt.max()]\n",
    "print(single_shot)\n",
    "overall_grouped = CA_companies.groupby('company')\n",
    "overall_summed = overall_grouped['company','raisedAmt'].sum()\n",
    "overall_max = overall_summed[overall_summed.raisedAmt==overall_summed.raisedAmt.max()]\n",
    "print(overall_max)"
   ]
  },
  {
   "cell_type": "code",
   "execution_count": 37,
   "metadata": {},
   "outputs": [
    {
     "name": "stdout",
     "output_type": "stream",
     "text": [
      "               raisedAmt\n",
      "company                 \n",
      "Facebook       495700000\n",
      "Demand Media   355000000\n",
      "OverSee        210000000\n",
      "Plastic Logic  195700000\n",
      "PayPal         194000000\n"
     ]
    }
   ],
   "source": [
    "#Q: print top 5 overall funded companies\n",
    "overall_sorted = overall_summed.sort_values(by=['raisedAmt'],ascending = False)\n",
    "print(overall_sorted.head(5))"
   ]
  },
  {
   "cell_type": "code",
   "execution_count": null,
   "metadata": {},
   "outputs": [],
   "source": []
  }
 ],
 "metadata": {
  "kernelspec": {
   "display_name": "Python 3",
   "language": "python",
   "name": "python3"
  },
  "language_info": {
   "codemirror_mode": {
    "name": "ipython",
    "version": 3
   },
   "file_extension": ".py",
   "mimetype": "text/x-python",
   "name": "python",
   "nbconvert_exporter": "python",
   "pygments_lexer": "ipython3",
   "version": "3.7.3"
  }
 },
 "nbformat": 4,
 "nbformat_minor": 2
}
